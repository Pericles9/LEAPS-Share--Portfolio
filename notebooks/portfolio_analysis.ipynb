{
 "cells": [
  {
   "cell_type": "markdown",
   "id": "760919d6",
   "metadata": {},
   "source": [
    "# Portfolio Options Pricing System - Interactive Analysis\n",
    "\n",
    "This notebook demonstrates the key features of the portfolio options pricing system."
   ]
  },
  {
   "cell_type": "code",
   "execution_count": null,
   "id": "7bc2a6b5",
   "metadata": {},
   "outputs": [],
   "source": [
    "# Import required libraries\n",
    "import sys\n",
    "import os\n",
    "sys.path.append('..')\n",
    "\n",
    "import pandas as pd\n",
    "import numpy as np\n",
    "import matplotlib.pyplot as plt\n",
    "\n",
    "from src.models.black_scholes import BlackScholesModel\n",
    "from src.portfolio.optimizer import PortfolioOptimizer\n",
    "from src.data.market_data import MarketDataFetcher\n",
    "from src.analysis.performance import PerformanceAnalyzer\n",
    "from src.utils.helpers import format_percentage, format_currency"
   ]
  },
  {
   "cell_type": "markdown",
   "id": "9748f2a9",
   "metadata": {},
   "source": [
    "## 1. Black-Scholes Option Pricing"
   ]
  },
  {
   "cell_type": "code",
   "execution_count": null,
   "id": "e21a437f",
   "metadata": {},
   "outputs": [],
   "source": [
    "# Initialize Black-Scholes model\n",
    "bs_model = BlackScholesModel()\n",
    "\n",
    "# Option parameters\n",
    "S = 100    # Current stock price\n",
    "K = 105    # Strike price\n",
    "T = 0.25   # Time to expiration (3 months)\n",
    "r = 0.05   # Risk-free rate\n",
    "sigma = 0.2  # Volatility\n",
    "\n",
    "# Calculate option prices\n",
    "call_price = bs_model.calculate_price(S, K, T, r, sigma, 'call')\n",
    "put_price = bs_model.calculate_price(S, K, T, r, sigma, 'put')\n",
    "\n",
    "print(f\"Call Option Price: {format_currency(call_price)}\")\n",
    "print(f\"Put Option Price: {format_currency(put_price)}\")"
   ]
  },
  {
   "cell_type": "code",
   "execution_count": null,
   "id": "814773ce",
   "metadata": {},
   "outputs": [],
   "source": [
    "# Calculate and display Greeks\n",
    "greeks = bs_model.calculate_greeks(S, K, T, r, sigma, 'call')\n",
    "\n",
    "print(\"Option Greeks:\")\n",
    "for greek, value in greeks.items():\n",
    "    print(f\"  {greek.capitalize()}: {value:.4f}\")"
   ]
  },
  {
   "cell_type": "markdown",
   "id": "90d117ad",
   "metadata": {},
   "source": [
    "## 2. Portfolio Optimization"
   ]
  },
  {
   "cell_type": "code",
   "execution_count": null,
   "id": "3c2b432e",
   "metadata": {},
   "outputs": [],
   "source": [
    "# Create synthetic return data for demonstration\n",
    "symbols = ['AAPL', 'GOOGL', 'MSFT', 'TSLA']\n",
    "dates = pd.date_range(start='2023-01-01', end='2023-12-31', freq='D')\n",
    "\n",
    "np.random.seed(42)\n",
    "synthetic_returns = {}\n",
    "for symbol in symbols:\n",
    "    returns = np.random.normal(0.001, 0.02, len(dates))\n",
    "    synthetic_returns[symbol] = returns\n",
    "\n",
    "returns_df = pd.DataFrame(synthetic_returns, index=dates)\n",
    "print(f\"Generated returns data shape: {returns_df.shape}\")\n",
    "returns_df.head()"
   ]
  },
  {
   "cell_type": "code",
   "execution_count": null,
   "id": "54b89b24",
   "metadata": {},
   "outputs": [],
   "source": [
    "# Optimize portfolio\n",
    "optimizer = PortfolioOptimizer(risk_free_rate=0.02)\n",
    "optimal_portfolio = optimizer.optimize_portfolio(returns_df, optimization_target='sharpe')\n",
    "\n",
    "print(\"Optimal Portfolio (Max Sharpe Ratio):\")\n",
    "print(f\"  Expected Return: {format_percentage(optimal_portfolio.expected_return)}\")\n",
    "print(f\"  Volatility: {format_percentage(optimal_portfolio.volatility)}\")\n",
    "print(f\"  Sharpe Ratio: {optimal_portfolio.sharpe_ratio:.3f}\")\n",
    "\n",
    "print(\"\\nOptimal Weights:\")\n",
    "weights_df = pd.DataFrame({\n",
    "    'Symbol': optimal_portfolio.symbols,\n",
    "    'Weight': optimal_portfolio.weights\n",
    "})\n",
    "weights_df['Weight (%)'] = weights_df['Weight'].apply(lambda x: f\"{x*100:.2f}%\")\n",
    "weights_df"
   ]
  },
  {
   "cell_type": "markdown",
   "id": "23684f1a",
   "metadata": {},
   "source": [
    "## 3. Performance Analysis"
   ]
  },
  {
   "cell_type": "code",
   "execution_count": null,
   "id": "cde9e53c",
   "metadata": {},
   "outputs": [],
   "source": [
    "# Analyze portfolio performance\n",
    "analyzer = PerformanceAnalyzer()\n",
    "portfolio_returns = (returns_df * optimal_portfolio.weights).sum(axis=1)\n",
    "\n",
    "metrics = analyzer.calculate_performance_metrics(portfolio_returns)\n",
    "\n",
    "print(\"Portfolio Performance Metrics:\")\n",
    "for metric, value in metrics.items():\n",
    "    if 'ratio' in metric.lower():\n",
    "        print(f\"  {metric.replace('_', ' ').title()}: {value:.3f}\")\n",
    "    else:\n",
    "        print(f\"  {metric.replace('_', ' ').title()}: {format_percentage(value)}\")"
   ]
  },
  {
   "cell_type": "code",
   "execution_count": null,
   "id": "4486c6a0",
   "metadata": {},
   "outputs": [],
   "source": [
    "# Plot cumulative returns\n",
    "cumulative_returns = (1 + returns_df).cumprod()\n",
    "portfolio_cumulative = (1 + portfolio_returns).cumprod()\n",
    "\n",
    "plt.figure(figsize=(12, 6))\n",
    "for symbol in symbols:\n",
    "    plt.plot(cumulative_returns.index, cumulative_returns[symbol], label=symbol, alpha=0.7)\n",
    "plt.plot(portfolio_cumulative.index, portfolio_cumulative, label='Optimized Portfolio', linewidth=2, color='black')\n",
    "\n",
    "plt.title('Cumulative Returns Comparison')\n",
    "plt.xlabel('Date')\n",
    "plt.ylabel('Cumulative Return')\n",
    "plt.legend()\n",
    "plt.grid(True, alpha=0.3)\n",
    "plt.show()"
   ]
  },
  {
   "cell_type": "markdown",
   "id": "46a12069",
   "metadata": {},
   "source": [
    "## 4. Monte Carlo Simulation"
   ]
  },
  {
   "cell_type": "code",
   "execution_count": null,
   "id": "de48264a",
   "metadata": {},
   "outputs": [],
   "source": [
    "# Run Monte Carlo simulation\n",
    "simulation_results = optimizer.monte_carlo_simulation(\n",
    "    returns_df, \n",
    "    optimal_portfolio.weights,\n",
    "    initial_investment=10000,\n",
    "    time_horizon=252,  # 1 year\n",
    "    num_simulations=1000\n",
    ")\n",
    "\n",
    "print(\"Monte Carlo Simulation Results (1 Year, $10,000 initial):\")\n",
    "for percentile, value in simulation_results['percentiles'].items():\n",
    "    print(f\"  {percentile} Percentile: {format_currency(value)}\")"
   ]
  },
  {
   "cell_type": "code",
   "execution_count": null,
   "id": "0ea8d003",
   "metadata": {},
   "outputs": [],
   "source": [
    "# Plot simulation results\n",
    "plt.figure(figsize=(12, 8))\n",
    "\n",
    "# Plot sample trajectories\n",
    "plt.subplot(2, 1, 1)\n",
    "for i in range(min(100, simulation_results['simulations'].shape[0])):\n",
    "    plt.plot(simulation_results['simulations'][i], alpha=0.1, color='lightblue')\n",
    "\n",
    "# Plot percentiles\n",
    "percentiles = np.percentile(simulation_results['simulations'], [5, 50, 95], axis=0)\n",
    "plt.plot(percentiles[1], color='red', linewidth=2, label='Median')\n",
    "plt.plot(percentiles[0], color='orange', linewidth=2, label='5th Percentile')\n",
    "plt.plot(percentiles[2], color='green', linewidth=2, label='95th Percentile')\n",
    "\n",
    "plt.title('Portfolio Value Trajectories (Monte Carlo Simulation)')\n",
    "plt.xlabel('Days')\n",
    "plt.ylabel('Portfolio Value ($)')\n",
    "plt.legend()\n",
    "plt.grid(True, alpha=0.3)\n",
    "\n",
    "# Plot final value distribution\n",
    "plt.subplot(2, 1, 2)\n",
    "plt.hist(simulation_results['final_values'], bins=50, alpha=0.7, color='lightblue', edgecolor='black')\n",
    "plt.axvline(simulation_results['percentiles']['50th'], color='red', linestyle='--', label='Median')\n",
    "plt.axvline(simulation_results['percentiles']['5th'], color='orange', linestyle='--', label='5th Percentile')\n",
    "plt.axvline(simulation_results['percentiles']['95th'], color='green', linestyle='--', label='95th Percentile')\n",
    "\n",
    "plt.title('Distribution of Final Portfolio Values')\n",
    "plt.xlabel('Final Portfolio Value ($)')\n",
    "plt.ylabel('Frequency')\n",
    "plt.legend()\n",
    "plt.grid(True, alpha=0.3)\n",
    "\n",
    "plt.tight_layout()\n",
    "plt.show()"
   ]
  }
 ],
 "metadata": {
  "language_info": {
   "name": "python"
  }
 },
 "nbformat": 4,
 "nbformat_minor": 5
}
